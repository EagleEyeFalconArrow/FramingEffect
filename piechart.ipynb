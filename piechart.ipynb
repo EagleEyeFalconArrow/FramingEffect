{
 "cells": [
  {
   "cell_type": "code",
   "execution_count": 1,
   "metadata": {},
   "outputs": [],
   "source": [
    "initAmounts = [100, 500, 1000, 2000]\n",
    "keepPercentages = [20, 40, 60, 80]"
   ]
  },
  {
   "cell_type": "code",
   "execution_count": 2,
   "metadata": {},
   "outputs": [
    {
     "data": {
      "image/png": "[encoded data removed]",
      "text/plain": [
       "<Figure size 640x480 with 1 Axes>"
      ]
     },
     "metadata": {},
     "output_type": "display_data"
    }
   ],
   "source": [
    "# create pie chart for two variables whose sum is 100\n",
    "\n",
    "import matplotlib.pyplot as plt\n",
    "\n",
    "# Data to plot\n",
    "labels = 'Keep All', 'Lose All'\n",
    "sizes = [60, 40]\n",
    "colors = ['green', 'red']\n",
    "explode = (0.0, 0)  # explode 1st slice\n",
    "\n",
    "# Plot\n",
    "# Set background color of the outer area of the plt\n",
    "plt.figure(facecolor='black')\n",
    "\n",
    "# plt.pie(sizes, explode=explode, colors=colors, autopct='%1.1f%%', startangle=140, textprops={'fontsize': 20}, wedgeprops={'linewidth': 2, 'edgecolor': 'white'})\n",
    "plt.pie(sizes, explode=explode, colors=colors, autopct='%1.1f%%', startangle=140, textprops={'fontsize': 20, 'color': 'white'})\n",
    "\n",
    "# legend for plot\n",
    "plt.legend(labels, loc=\"upper left\", fontsize=12, labelcolor='white', facecolor='black')\n",
    "\n",
    "# title for plot\n",
    "plt.title('GAMBLE', fontsize=30, fontname='Times New Roman', color='white')\n",
    "\n",
    "plt.axis('equal')\n",
    "plt.savefig(\"./neuroImage/gamble.png\")\n",
    "\n",
    "# Path: piechartgen.py"
   ]
  },
  {
   "cell_type": "code",
   "execution_count": 3,
   "metadata": {},
   "outputs": [
    {
     "data": {
      "text/plain": [
       "<Figure size 640x480 with 0 Axes>"
      ]
     },
     "metadata": {},
     "output_type": "display_data"
    },
    {
     "data": {
      "text/plain": [
       "<Figure size 640x480 with 0 Axes>"
      ]
     },
     "metadata": {},
     "output_type": "display_data"
    },
    {
     "data": {
      "text/plain": [
       "<Figure size 640x480 with 0 Axes>"
      ]
     },
     "metadata": {},
     "output_type": "display_data"
    },
    {
     "data": {
      "text/plain": [
       "<Figure size 640x480 with 0 Axes>"
      ]
     },
     "metadata": {},
     "output_type": "display_data"
    },
    {
     "data": {
      "text/plain": [
       "<Figure size 640x480 with 0 Axes>"
      ]
     },
     "metadata": {},
     "output_type": "display_data"
    },
    {
     "data": {
      "text/plain": [
       "<Figure size 640x480 with 0 Axes>"
      ]
     },
     "metadata": {},
     "output_type": "display_data"
    },
    {
     "data": {
      "text/plain": [
       "<Figure size 640x480 with 0 Axes>"
      ]
     },
     "metadata": {},
     "output_type": "display_data"
    },
    {
     "data": {
      "text/plain": [
       "<Figure size 640x480 with 0 Axes>"
      ]
     },
     "metadata": {},
     "output_type": "display_data"
    },
    {
     "data": {
      "text/plain": [
       "<Figure size 640x480 with 0 Axes>"
      ]
     },
     "metadata": {},
     "output_type": "display_data"
    },
    {
     "data": {
      "text/plain": [
       "<Figure size 640x480 with 0 Axes>"
      ]
     },
     "metadata": {},
     "output_type": "display_data"
    },
    {
     "data": {
      "text/plain": [
       "<Figure size 640x480 with 0 Axes>"
      ]
     },
     "metadata": {},
     "output_type": "display_data"
    },
    {
     "data": {
      "text/plain": [
       "<Figure size 640x480 with 0 Axes>"
      ]
     },
     "metadata": {},
     "output_type": "display_data"
    },
    {
     "data": {
      "text/plain": [
       "<Figure size 640x480 with 0 Axes>"
      ]
     },
     "metadata": {},
     "output_type": "display_data"
    },
    {
     "data": {
      "text/plain": [
       "<Figure size 640x480 with 0 Axes>"
      ]
     },
     "metadata": {},
     "output_type": "display_data"
    },
    {
     "data": {
      "text/plain": [
       "<Figure size 640x480 with 0 Axes>"
      ]
     },
     "metadata": {},
     "output_type": "display_data"
    },
    {
     "data": {
      "text/plain": [
       "<Figure size 640x480 with 0 Axes>"
      ]
     },
     "metadata": {},
     "output_type": "display_data"
    }
   ],
   "source": [
    "# Make a rectangle with text inside\n",
    "from math import ceil\n",
    "import matplotlib.pyplot as plt\n",
    "import numpy as np\n",
    "\n",
    "# Data to plot\n",
    "labels = 'Keep All'\n",
    "sizes = [100]\n",
    "colors = ['black']\n",
    "\n",
    "# Plot\n",
    "# Set background color of the outer area of the plt\n",
    "\n",
    "# legend for plot\n",
    "# plt.legend(labels, loc=\"best\")\n",
    "\n",
    "# title for plot aligned to centre of pie chart\n",
    "# place text in the middle of the pie chart\n",
    "\n",
    "for amount in initAmounts:\n",
    "    for keep in keepPercentages:\n",
    "\n",
    "        plt.figure(facecolor='black')\n",
    "\n",
    "        plt.pie(sizes, colors=colors, startangle=140)   \n",
    "        plt.text(0, 0, f'KEEP ₹{int(ceil(keep/100 * amount))}', horizontalalignment='center', verticalalignment='center', fontsize=30, fontname='Times New Roman', color='white')\n",
    "        # plt.title('KEEP ALL', bbox={'facecolor':'0.8', 'pad':5}, fontsize=20, fontname='Times New Roman')\n",
    "\n",
    "        plt.axis('equal')\n",
    "        plt.savefig(f'./neuroImage/init{amount}keep{keep}.png')\n",
    "        plt.clf()\n",
    "\n",
    "# Path: piechartgen.py\n"
   ]
  },
  {
   "cell_type": "code",
   "execution_count": 4,
   "metadata": {},
   "outputs": [
    {
     "data": {
      "text/plain": [
       "<Figure size 640x480 with 0 Axes>"
      ]
     },
     "metadata": {},
     "output_type": "display_data"
    },
    {
     "data": {
      "text/plain": [
       "<Figure size 640x480 with 0 Axes>"
      ]
     },
     "metadata": {},
     "output_type": "display_data"
    },
    {
     "data": {
      "text/plain": [
       "<Figure size 640x480 with 0 Axes>"
      ]
     },
     "metadata": {},
     "output_type": "display_data"
    },
    {
     "data": {
      "text/plain": [
       "<Figure size 640x480 with 0 Axes>"
      ]
     },
     "metadata": {},
     "output_type": "display_data"
    },
    {
     "data": {
      "text/plain": [
       "<Figure size 640x480 with 0 Axes>"
      ]
     },
     "metadata": {},
     "output_type": "display_data"
    },
    {
     "data": {
      "text/plain": [
       "<Figure size 640x480 with 0 Axes>"
      ]
     },
     "metadata": {},
     "output_type": "display_data"
    },
    {
     "data": {
      "text/plain": [
       "<Figure size 640x480 with 0 Axes>"
      ]
     },
     "metadata": {},
     "output_type": "display_data"
    },
    {
     "data": {
      "text/plain": [
       "<Figure size 640x480 with 0 Axes>"
      ]
     },
     "metadata": {},
     "output_type": "display_data"
    },
    {
     "data": {
      "text/plain": [
       "<Figure size 640x480 with 0 Axes>"
      ]
     },
     "metadata": {},
     "output_type": "display_data"
    },
    {
     "data": {
      "text/plain": [
       "<Figure size 640x480 with 0 Axes>"
      ]
     },
     "metadata": {},
     "output_type": "display_data"
    },
    {
     "data": {
      "text/plain": [
       "<Figure size 640x480 with 0 Axes>"
      ]
     },
     "metadata": {},
     "output_type": "display_data"
    },
    {
     "data": {
      "text/plain": [
       "<Figure size 640x480 with 0 Axes>"
      ]
     },
     "metadata": {},
     "output_type": "display_data"
    },
    {
     "data": {
      "text/plain": [
       "<Figure size 640x480 with 0 Axes>"
      ]
     },
     "metadata": {},
     "output_type": "display_data"
    },
    {
     "data": {
      "text/plain": [
       "<Figure size 640x480 with 0 Axes>"
      ]
     },
     "metadata": {},
     "output_type": "display_data"
    },
    {
     "data": {
      "text/plain": [
       "<Figure size 640x480 with 0 Axes>"
      ]
     },
     "metadata": {},
     "output_type": "display_data"
    },
    {
     "data": {
      "text/plain": [
       "<Figure size 640x480 with 0 Axes>"
      ]
     },
     "metadata": {},
     "output_type": "display_data"
    }
   ],
   "source": [
    "# Make a rectangle with text inside\n",
    "from math import ceil\n",
    "import matplotlib.pyplot as plt\n",
    "import numpy as np\n",
    "\n",
    "# Data to plot\n",
    "labels = 'Lose All'\n",
    "sizes = [100]\n",
    "colors = ['black']\n",
    "\n",
    "# Plot\n",
    "# Set background color of the outer area of the plt\n",
    "# legend for plot\n",
    "# plt.legend(labels, loc=\"best\")\n",
    "\n",
    "# title for plot aligned to centre of pie chart\n",
    "for amount in initAmounts:\n",
    "    for keep in keepPercentages:\n",
    "        plt.figure(facecolor='black')\n",
    "\n",
    "        plt.pie(sizes, colors=colors, startangle=140)\n",
    "        plt.text(0, 0, f'LOSE ₹{int(ceil(amount * (1 - keep/100)))}', horizontalalignment='center', verticalalignment='center', fontsize=30, fontname='Times New Roman', color='white')\n",
    "        plt.axis('equal')\n",
    "        # plt.show()\n",
    "        plt.savefig(f\"./neuroImage/init{amount}lose{keep}.png\")\n",
    "        plt.clf()\n",
    "\n",
    "# Path: piechartgen.py\n"
   ]
  },
  {
   "cell_type": "code",
   "execution_count": 5,
   "metadata": {},
   "outputs": [
    {
     "data": {
      "text/plain": [
       "<Figure size 640x480 with 0 Axes>"
      ]
     },
     "metadata": {},
     "output_type": "display_data"
    },
    {
     "data": {
      "text/plain": [
       "<Figure size 640x480 with 0 Axes>"
      ]
     },
     "metadata": {},
     "output_type": "display_data"
    },
    {
     "data": {
      "text/plain": [
       "<Figure size 640x480 with 0 Axes>"
      ]
     },
     "metadata": {},
     "output_type": "display_data"
    },
    {
     "data": {
      "text/plain": [
       "<Figure size 640x480 with 0 Axes>"
      ]
     },
     "metadata": {},
     "output_type": "display_data"
    }
   ],
   "source": [
    "# Make a rectangle with text inside\n",
    "import matplotlib.pyplot as plt\n",
    "import numpy as np\n",
    "\n",
    "# Data to plot\n",
    "labels = 'Receive'\n",
    "sizes = [100]\n",
    "colors = ['black']\n",
    "\n",
    "# Plot\n",
    "# Set background color of the outer area of the plt\n",
    "\n",
    "# legend for plot\n",
    "# plt.legend(labels, loc=\"best\")\n",
    "\n",
    "# title for plot aligned to centre of pie chart\n",
    "# place text in the middle of the pie chart\n",
    "for amount in initAmounts:\n",
    "    plt.figure(facecolor='black')\n",
    "\n",
    "    plt.pie(sizes, colors=colors, startangle=140)\n",
    "    plt.text(0, 0, f'YOU RECEIVE ₹{amount}', horizontalalignment='center', verticalalignment='center', fontsize=30, fontname='Times New Roman', color='white')\n",
    "# plt.title('KEEP ALL', bbox={'facecolor':'0.8', 'pad':5}, fontsize=20, fontname='Times New Roman')\n",
    "\n",
    "    plt.axis('equal')\n",
    "    plt.savefig(f\"./neuroImage/init{amount}.png\")\n",
    "    # Clear plot\n",
    "    plt.clf()\n",
    "\n",
    "# Path: piechartgen.py\n"
   ]
  }
 ],
 "metadata": {
  "kernelspec": {
   "display_name": "Python 3.9.13 ('base')",
   "language": "python",
   "name": "python3"
  },
  "language_info": {
   "codemirror_mode": {
    "name": "ipython",
    "version": 3
   },
   "file_extension": ".py",
   "mimetype": "text/x-python",
   "name": "python",
   "nbconvert_exporter": "python",
   "pygments_lexer": "ipython3",
   "version": "3.9.13"
  },
  "orig_nbformat": 4,
  "vscode": {
   "interpreter": {
    "hash": "cd94e3362e96f7b0e6e0418773f7e672c16ff1a44e8938316a122148dccc5eb4"
   }
  }
 },
 "nbformat": 4,
 "nbformat_minor": 2
}
